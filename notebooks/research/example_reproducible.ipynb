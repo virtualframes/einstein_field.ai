{
 "cells": [
  {
   "cell_type": "markdown",
   "id": "e741d606",
   "metadata": {},
   "source": [
    "# Example Reproducible Notebook"
   ]
  },
  {
   "cell_type": "markdown",
   "id": "69f118f0",
   "metadata": {
    "tags": [
     "metadata"
    ]
   },
   "source": [
    "```yaml\\nenvironment:\\n  dependencies:\\n    - python=3.12\\n    - pip:\\n      - numpy==1.26.4\\nexpected_outputs_hash: <sha256_hash>\\nzotero_snapshot_id: <zotero_snapshot_id>\\n```"
   ]
  },
  {
   "cell_type": "code",
   "execution_count": null,
   "id": "2bf14649",
   "metadata": {},
   "outputs": [],
   "source": [
    "\n",
    "import numpy as np\n",
    "import random\n",
    "\n",
    "np.random.seed(42)\n",
    "random.seed(42)\n",
    "\n",
    "print(f'The answer is {np.random.randint(100)}')\n"
   ]
  }
 ],
 "metadata": {},
 "nbformat": 4,
 "nbformat_minor": 5
}
